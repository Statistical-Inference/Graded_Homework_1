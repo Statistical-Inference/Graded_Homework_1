{
 "cells": [
  {
   "cell_type": "code",
   "execution_count": 12,
   "metadata": {},
   "outputs": [],
   "source": [
    "import numpy as np\n",
    "import math"
   ]
  },
  {
   "cell_type": "markdown",
   "metadata": {},
   "source": [
    "## 7.1"
   ]
  },
  {
   "cell_type": "code",
   "execution_count": 17,
   "metadata": {},
   "outputs": [],
   "source": [
    "x=np.zeros(501)\n",
    "error=0\n",
    "for i in range(1,501):\n",
    "    x=np.random.poisson(5,50)\n",
    "    mean=np.mean(x)\n",
    "    var=np.var(x)\n",
    "    TS=np.sqrt(25)*(var-mean)/mean\n",
    "    if TS>1.65:\n",
    "        error=error+1\n",
    "error=error/500   "
   ]
  },
  {
   "cell_type": "code",
   "execution_count": 18,
   "metadata": {},
   "outputs": [
    {
     "data": {
      "text/plain": [
       "0.048"
      ]
     },
     "execution_count": 18,
     "metadata": {},
     "output_type": "execute_result"
    }
   ],
   "source": [
    "error"
   ]
  },
  {
   "cell_type": "markdown",
   "metadata": {},
   "source": [
    "## 7.2"
   ]
  },
  {
   "cell_type": "code",
   "execution_count": 15,
   "metadata": {},
   "outputs": [],
   "source": [
    "x=np.zeros(501)\n",
    "error=0\n",
    "for i in range(1,501):\n",
    "    lamda=np.random.gamma(2.5)\n",
    "    x=np.random.poisson(lamda,50)\n",
    "    mean=np.mean(x)\n",
    "    var=np.var(x)\n",
    "    TS=np.sqrt(25)*(var-mean)/mean\n",
    "    if TS>1.65:\n",
    "        error=error+1\n",
    "error=error/500   "
   ]
  },
  {
   "cell_type": "code",
   "execution_count": 16,
   "metadata": {},
   "outputs": [
    {
     "data": {
      "text/plain": [
       "0.04"
      ]
     },
     "execution_count": 16,
     "metadata": {},
     "output_type": "execute_result"
    }
   ],
   "source": [
    "error"
   ]
  },
  {
   "cell_type": "markdown",
   "metadata": {},
   "source": [
    "## 8"
   ]
  },
  {
   "cell_type": "code",
   "execution_count": 10,
   "metadata": {},
   "outputs": [],
   "source": [
    "death=[0,1,2,3,4,5,6,7,8,9,10,11,12,13,14]\n",
    "freq=[1,4,15,31,39,55,54,49,47,31,16,9,8,4,3]\n",
    "n=sum(freq)\n",
    "mean=np.average(death,weights=freq)\n",
    "var=np.sum((death-mean)*(death-mean)*freq)/(np.sum(freq)-1)\n",
    "TS=np.sqrt(np.sum(freq)/2)*(var-mean)/mean"
   ]
  },
  {
   "cell_type": "code",
   "execution_count": 11,
   "metadata": {},
   "outputs": [
    {
     "data": {
      "text/plain": [
       "0.9786745788901388"
      ]
     },
     "execution_count": 11,
     "metadata": {},
     "output_type": "execute_result"
    }
   ],
   "source": [
    "TS"
   ]
  },
  {
   "cell_type": "code",
   "execution_count": null,
   "metadata": {},
   "outputs": [],
   "source": []
  }
 ],
 "metadata": {
  "kernelspec": {
   "display_name": "Python 3",
   "language": "python",
   "name": "python3"
  },
  "language_info": {
   "codemirror_mode": {
    "name": "ipython",
    "version": 3
   },
   "file_extension": ".py",
   "mimetype": "text/x-python",
   "name": "python",
   "nbconvert_exporter": "python",
   "pygments_lexer": "ipython3",
   "version": "3.7.3"
  }
 },
 "nbformat": 4,
 "nbformat_minor": 2
}
